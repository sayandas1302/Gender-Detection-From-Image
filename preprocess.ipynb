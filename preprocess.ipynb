{
 "cells": [
  {
   "attachments": {},
   "cell_type": "markdown",
   "metadata": {},
   "source": [
    "### Importing Dependencies"
   ]
  },
  {
   "cell_type": "code",
   "execution_count": 1,
   "metadata": {},
   "outputs": [],
   "source": [
    "import cv2\n",
    "import os\n",
    "import pickle\n",
    "import numpy as np"
   ]
  },
  {
   "attachments": {},
   "cell_type": "markdown",
   "metadata": {},
   "source": [
    "### Pre-Processing"
   ]
  },
  {
   "attachments": {},
   "cell_type": "markdown",
   "metadata": {},
   "source": [
    "#### Filtering out those images that has 2 eyes"
   ]
  },
  {
   "cell_type": "code",
   "execution_count": 5,
   "metadata": {},
   "outputs": [
    {
     "name": "stdout",
     "output_type": "stream",
     "text": [
      "Image before filter: 23708\n",
      "Image after filter: 16786\n"
     ]
    }
   ],
   "source": [
    "# keeping those images that has all the 2 eyes in the faces\n",
    "\n",
    "def n_eyes(img_filename):\n",
    "    '''function that detect the number of eyes in a image'''\n",
    "\n",
    "    # loading the pre-trained  eye cascade classifier\n",
    "    eye_cascade = cv2.CascadeClassifier(cv2.data.haarcascades + 'haarcascade_eye.xml')\n",
    "\n",
    "    # Load the image\n",
    "    img = cv2.imread(f'./dataset/initial faces/{img_filename}')\n",
    "\n",
    "    # Convert the image to grayscale\n",
    "    gray = cv2.cvtColor(img, cv2.COLOR_BGR2GRAY)\n",
    "\n",
    "    # number of detected eyes\n",
    "    eyes = eye_cascade.detectMultiScale(gray, scaleFactor=1.3, minNeighbors=10)\n",
    "    n_eye = len(eyes)\n",
    "\n",
    "    return n_eye\n",
    "\n",
    "img_list = os.listdir('./dataset/initial faces/')\n",
    "for filename in img_list:\n",
    "    eye_count = n_eyes(filename)\n",
    "    if eye_count >= 2:\n",
    "        img = cv2.imread(f'./dataset/initial faces/{filename}')\n",
    "        cv2.imwrite(f'./dataset/filtered_faces/{filename}', img)\n",
    "\n",
    "print(f'''Image before filter: {len(os.listdir(\"./dataset/initial faces/\"))}\n",
    "Image after filter: {len(os.listdir(\"./dataset/filtered_faces/\"))}''')"
   ]
  },
  {
   "attachments": {},
   "cell_type": "markdown",
   "metadata": {},
   "source": [
    "### Extracting X and y"
   ]
  },
  {
   "cell_type": "code",
   "execution_count": 3,
   "metadata": {},
   "outputs": [],
   "source": [
    "img_list = os.listdir('./dataset/filtered_faces/')\n",
    "X = []\n",
    "y_gender = []\n",
    "\n",
    "for img_file in img_list:\n",
    "    img = cv2.imread(f'./dataset/filtered_faces/{img_file}')\n",
    "    resize_img = cv2.resize(img, (100,100))\n",
    "    arr = np.array(resize_img)\n",
    "    X.append(arr)\n",
    "    y_gender.append(img_file.split('_')[1])\n",
    "\n",
    "X = np.array(X)\n",
    "y_gender = np.array(y_gender)"
   ]
  },
  {
   "cell_type": "code",
   "execution_count": 6,
   "metadata": {},
   "outputs": [],
   "source": [
    "### saving X and y's\n",
    "with open('./artifacts/X.pkl', 'wb') as file:\n",
    "    pickle.dump(X, file)\n",
    "\n",
    "with open('./artifacts/y_gender.pkl', 'wb') as file:\n",
    "    pickle.dump(y_gender, file)"
   ]
  }
 ],
 "metadata": {
  "kernelspec": {
   "display_name": "fgrenv",
   "language": "python",
   "name": "python3"
  },
  "language_info": {
   "codemirror_mode": {
    "name": "ipython",
    "version": 3
   },
   "file_extension": ".py",
   "mimetype": "text/x-python",
   "name": "python",
   "nbconvert_exporter": "python",
   "pygments_lexer": "ipython3",
   "version": "3.11.3"
  },
  "orig_nbformat": 4
 },
 "nbformat": 4,
 "nbformat_minor": 2
}
